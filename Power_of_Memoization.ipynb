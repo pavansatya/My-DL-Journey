{
 "cells": [
  {
   "cell_type": "markdown",
   "id": "4fc8acc7",
   "metadata": {},
   "source": [
    "For functions like fibonacci series where a function is called lot of times due to recursion, it takes a lot of time and considered in-efficient.\n"
   ]
  },
  {
   "cell_type": "code",
   "execution_count": 1,
   "id": "8bce3178",
   "metadata": {},
   "outputs": [],
   "source": [
    "def fibonacci(n):\n",
    "    if n ==0 or n ==1:\n",
    "        return 1\n",
    "    else:\n",
    "        return fibonacci(n-1)+fibonacci(n-2)"
   ]
  },
  {
   "cell_type": "code",
   "execution_count": 5,
   "id": "be6796ac",
   "metadata": {},
   "outputs": [
    {
     "name": "stdout",
     "output_type": "stream",
     "text": [
      "5.204679012298584\n"
     ]
    }
   ],
   "source": [
    "import time\n",
    "start = time.time()\n",
    "fibonacci(39)\n",
    "print(time.time() - start)"
   ]
  },
  {
   "cell_type": "markdown",
   "id": "cc8a2ff2",
   "metadata": {},
   "source": [
    "If the number increases then time also increases exponnentially. This happens because function for same valye i.e. 2 or 3 or 5 is called mnay times. So, we choose memoization to reduce time taken"
   ]
  },
  {
   "cell_type": "code",
   "execution_count": 22,
   "id": "8cd9d3a2",
   "metadata": {},
   "outputs": [],
   "source": [
    "def fib(n, d):\n",
    "    if n in d:\n",
    "        return d[n]\n",
    "    else:\n",
    "        d[n] = fib(n-1, d) + fib(n-2, d)\n",
    "        return d[n]"
   ]
  },
  {
   "cell_type": "code",
   "execution_count": 23,
   "id": "4fafa11f",
   "metadata": {},
   "outputs": [
    {
     "name": "stdout",
     "output_type": "stream",
     "text": [
      "284812298108489611757988937681460995615380088782304890986477195645969271404032323901\n",
      "0.0006940364837646484\n"
     ]
    }
   ],
   "source": [
    "start = time.time()\n",
    "d = {0:1, 1:1}\n",
    "print(fib(400, d))\n",
    "print(time.time() - start)"
   ]
  },
  {
   "cell_type": "code",
   "execution_count": null,
   "id": "21918ddc",
   "metadata": {},
   "outputs": [],
   "source": []
  },
  {
   "cell_type": "code",
   "execution_count": null,
   "id": "93b8cad1",
   "metadata": {},
   "outputs": [],
   "source": []
  }
 ],
 "metadata": {
  "kernelspec": {
   "display_name": "base",
   "language": "python",
   "name": "python3"
  },
  "language_info": {
   "codemirror_mode": {
    "name": "ipython",
    "version": 3
   },
   "file_extension": ".py",
   "mimetype": "text/x-python",
   "name": "python",
   "nbconvert_exporter": "python",
   "pygments_lexer": "ipython3",
   "version": "3.12.7"
  }
 },
 "nbformat": 4,
 "nbformat_minor": 5
}
