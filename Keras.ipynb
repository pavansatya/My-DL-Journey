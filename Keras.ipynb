{
 "cells": [
  {
   "cell_type": "markdown",
   "id": "464bef38",
   "metadata": {},
   "source": [
    "| Model Type        | Simplicity | Flexibility | Use Cases                              |\n",
    "| ----------------- | ---------- | ----------- | -------------------------------------- |\n",
    "| Sequential        | ⭐⭐⭐⭐       | ⭐           | Simple, stack-based models             |\n",
    "| Functional        | ⭐⭐⭐        | ⭐⭐⭐⭐        | Complex, multi-input/output            |\n",
    "| Model Subclassing | ⭐⭐         | ⭐⭐⭐⭐⭐       | Custom logic, research, dynamic models |"
   ]
  },
  {
   "cell_type": "markdown",
   "id": "276f846c",
   "metadata": {
    "vscode": {
     "languageId": "plaintext"
    }
   },
   "source": [
    "Keras has multiple models in it, these are the main ones and their simplicity along with flexibility."
   ]
  },
  {
   "cell_type": "markdown",
   "id": "fc921f70",
   "metadata": {},
   "source": [
    "### LSTM"
   ]
  },
  {
   "cell_type": "code",
   "execution_count": 1,
   "id": "742ce538",
   "metadata": {},
   "outputs": [],
   "source": [
    "# Import required libraries\n",
    "from tensorflow import keras \n",
    "from sklearn.preprocessing import StandardScaler \n",
    "import numpy as np \n",
    "import pandas as pd \n",
    "import matplotlib.pyplot as plt \n",
    "import seaborn as sns\n"
   ]
  },
  {
   "cell_type": "code",
   "execution_count": 2,
   "id": "e22a2e5b",
   "metadata": {},
   "outputs": [],
   "source": [
    "model = keras.models.Sequential()"
   ]
  },
  {
   "cell_type": "code",
   "execution_count": null,
   "id": "2cd21691",
   "metadata": {},
   "outputs": [],
   "source": [
    "# First layer - This is like brain to help the model understand patterns.\n",
    "\n",
    "# Number - 64 - The number of memory cells. HIgher the nnumber, the more complex problems it solves.\n",
    "# return_sequences - After done, give me the full list of ideas for the next layer\n",
    "# input_shape - Tells the first LSTM layer what kind of data to export \n",
    "\n",
    "model.add(keras.layers.LSTM(64, return_sequences=True, input_shape=(32, 32)))\n",
    "\n",
    "# Second layer - This is another brain, but this time it only gives the final idea, not a list of thoughts\n",
    "\n",
    "# Number - 64 - The number of helpers to help the brain. HIgher the number, the more complex problems.\n",
    "# return_sequences - Tells the model to return a single outout instead of a sequence.\n",
    "\n",
    "model.add(keras.layers.LSTM(64, return_sequences=False))\n",
    "\n",
    "# Dense layer: turns complex patters into a decisioin\n",
    "\n",
    "# Number - 128 - This is regualr neural network layer with 128 neurons to help make the final decision.\n",
    "# activation - helpls the model introduce non-linearity (ReLU)\n",
    "\n",
    "model.add(keras.layers.Dense(128, activation='relu'))\n",
    "\n",
    "# Dropout layer: This layer randomly drops out 20% neurons during the training.\n",
    "# This prevents over fitting (when the model memorizes data too well but struggles with new data)\n",
    "\n",
    "model.add(keras.layers.Dropout(0.2))\n",
    "\n",
    "# Final dense layer: This layer makes the final prediction\n",
    "\n",
    "model.add(keras.layer.Desse(1))\n",
    "\n",
    "# Model compilation: This compiles for the model to tell it how to learn. We are giving it information to improve\n",
    "\n",
    "# optimizer: Adam is popular optimizer that helps the model adjust its learning. Works well with time-series data\n",
    "# loss: MAR measures how far the predictions are from the actual prices. The lower the MAE, the better. \n",
    "# metrics: This is another performance metric that checks how accurate the predictions are.\n",
    "\n",
    "model.compile(optimizer='adam', loss='mae', metrics=[keras.metrics.RootMeanSquaredError()])"
   ]
  },
  {
   "cell_type": "markdown",
   "id": "4eac8592",
   "metadata": {},
   "source": [
    "So, basically\n",
    "\n",
    "LSTM layers - Understand patters over time\n",
    "\n",
    "Dense layers - Learn more complex relationships\n",
    "\n",
    "Dropout layer - Prevent overfitting\n",
    "\n",
    "Final output layer - Make the final prediction"
   ]
  }
 ],
 "metadata": {
  "kernelspec": {
   "display_name": "base",
   "language": "python",
   "name": "python3"
  },
  "language_info": {
   "codemirror_mode": {
    "name": "ipython",
    "version": 3
   },
   "file_extension": ".py",
   "mimetype": "text/x-python",
   "name": "python",
   "nbconvert_exporter": "python",
   "pygments_lexer": "ipython3",
   "version": "3.12.7"
  }
 },
 "nbformat": 4,
 "nbformat_minor": 5
}
